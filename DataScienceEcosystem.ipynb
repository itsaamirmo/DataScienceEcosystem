{
 "cells": [
  {
   "cell_type": "markdown",
   "id": "7aaedb21-492b-44fc-8cb5-9e9f1df669d9",
   "metadata": {},
   "source": [
    "# Data Science Tools and Ecosystem"
   ]
  },
  {
   "cell_type": "markdown",
   "id": "098911f8-6ccf-44a6-ba4e-ae38769085f2",
   "metadata": {
    "tags": []
   },
   "source": [
    " In this notebook, Data Science Tools and Ecosystem are summarized."
   ]
  },
  {
   "cell_type": "markdown",
   "id": "fb35d1f0-7481-40c2-813b-799e029eed26",
   "metadata": {},
   "source": [
    "**Objectives:**"
   ]
  },
  {
   "cell_type": "markdown",
   "id": "2a538402-736f-4e93-be2d-76f91ca7df4d",
   "metadata": {},
   "source": [
    "- List popular languages for Data Science\n",
    "- List commonly used libraries in Data Science\n",
    "- Basic arithmetic operations in Python"
   ]
  },
  {
   "cell_type": "markdown",
   "id": "847d66f9-dffa-4e68-83c3-28e64b81ac08",
   "metadata": {},
   "source": [
    "Some of the popular languages that Data Scientists use are:\n",
    "\n",
    "1. Python\n",
    "2. R\n",
    "3. SQL\n"
   ]
  },
  {
   "cell_type": "markdown",
   "id": "cde77681-758c-455f-ac4e-e47bdc80d988",
   "metadata": {},
   "source": [
    "Some of the commonly used libraries used by Data Scientists include:\n",
    "\n",
    "1. Pandas\n",
    "2. NumPy\n",
    "3. TensorFlow\n"
   ]
  },
  {
   "cell_type": "markdown",
   "id": "0b192156-e6e1-4152-b3a7-8d006731d22e",
   "metadata": {},
   "source": [
    "# Data Science Tools"
   ]
  },
  {
   "cell_type": "markdown",
   "id": "5a008634-55cb-4df1-8e84-ee427361301f",
   "metadata": {},
   "source": [
    "\n",
    "| Jupyter Notebook   |\n"
   ]
  },
  {
   "cell_type": "markdown",
   "id": "cc531156-83b6-4d0c-89b9-69c6c93ebf98",
   "metadata": {},
   "source": [
    "| RStudio            |"
   ]
  },
  {
   "cell_type": "markdown",
   "id": "02983d5b-15b1-47e6-a815-dbab3ee34ac8",
   "metadata": {},
   "source": [
    "| Google Colab       |"
   ]
  },
  {
   "cell_type": "markdown",
   "id": "c11b006e-b0f1-4a4a-9191-2ab15f8e31e5",
   "metadata": {},
   "source": [
    "### Below are a few examples of evaluating arithmetic expressions in Python.\n"
   ]
  },
  {
   "cell_type": "markdown",
   "id": "8a5f29cf-113a-480f-9bfb-4ce4f5b9099e",
   "metadata": {
    "tags": []
   },
   "source": [
    "This is a simple arithmetic expression to multiply then add integers\n",
    "\n"
   ]
  },
  {
   "cell_type": "code",
   "execution_count": 3,
   "id": "422abc71-5c33-4399-98c8-c63d857f6f02",
   "metadata": {
    "tags": []
   },
   "outputs": [
    {
     "data": {
      "text/plain": [
       "17"
      ]
     },
     "execution_count": 3,
     "metadata": {},
     "output_type": "execute_result"
    }
   ],
   "source": [
    "(3 * 4) + 5"
   ]
  },
  {
   "cell_type": "markdown",
   "id": "79ad9d17-50cd-462f-a1af-1cc28221e10c",
   "metadata": {},
   "source": [
    "This will convert 200 minutes to hours by diving by 60"
   ]
  },
  {
   "cell_type": "code",
   "execution_count": 5,
   "id": "27454580-79ea-42bb-ac85-f7431c84b991",
   "metadata": {
    "tags": []
   },
   "outputs": [
    {
     "data": {
      "text/plain": [
       "3.3333333333333335"
      ]
     },
     "execution_count": 5,
     "metadata": {},
     "output_type": "execute_result"
    }
   ],
   "source": [
    "minutes = 200\n",
    "hours = minutes / 60\n",
    "hours\n"
   ]
  },
  {
   "cell_type": "markdown",
   "id": "7cdc3d7f-21cb-4918-b755-878ebb252f23",
   "metadata": {},
   "source": [
    "## Author"
   ]
  },
  {
   "cell_type": "markdown",
   "id": "d5f01224-b691-4ebf-8e1e-8c45c1340938",
   "metadata": {},
   "source": [
    "Aamir Mohammed"
   ]
  },
  {
   "cell_type": "code",
   "execution_count": null,
   "id": "e8103505-f65e-426a-a147-1664de04a88c",
   "metadata": {},
   "outputs": [],
   "source": []
  }
 ],
 "metadata": {
  "kernelspec": {
   "display_name": "Python",
   "language": "python",
   "name": "conda-env-python-py"
  },
  "language_info": {
   "codemirror_mode": {
    "name": "ipython",
    "version": 3
   },
   "file_extension": ".py",
   "mimetype": "text/x-python",
   "name": "python",
   "nbconvert_exporter": "python",
   "pygments_lexer": "ipython3",
   "version": "3.7.12"
  }
 },
 "nbformat": 4,
 "nbformat_minor": 5
}
